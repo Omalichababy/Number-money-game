{
 "cells": [
  {
   "cell_type": "code",
   "execution_count": 7,
   "id": "fa45ca69-8ea4-4408-bb59-1756c4770fbc",
   "metadata": {},
   "outputs": [
    {
     "name": "stdout",
     "output_type": "stream",
     "text": [
      "Welcome to the Online Gaming Platform!\n",
      "You have to guess a number between 1 and 77.\n",
      "Try to guess the number. I'll hold your hands and walk you through it!\n"
     ]
    },
    {
     "name": "stdin",
     "output_type": "stream",
     "text": [
      "Enter your guess:  0\n"
     ]
    },
    {
     "name": "stdout",
     "output_type": "stream",
     "text": [
      "Please enter a valid integer between 1 and 77.\n"
     ]
    },
    {
     "name": "stdin",
     "output_type": "stream",
     "text": [
      "Enter your guess:  78\n"
     ]
    },
    {
     "name": "stdout",
     "output_type": "stream",
     "text": [
      "Please enter a valid integer between 1 and 77.\n"
     ]
    },
    {
     "name": "stdin",
     "output_type": "stream",
     "text": [
      "Enter your guess:  6.5\n"
     ]
    },
    {
     "name": "stdout",
     "output_type": "stream",
     "text": [
      "Please enter a valid integer between 1 and 77.\n"
     ]
    },
    {
     "name": "stdin",
     "output_type": "stream",
     "text": [
      "Enter your guess:  33\n"
     ]
    },
    {
     "name": "stdout",
     "output_type": "stream",
     "text": [
      "Nice try! Keep going. Try something higher.\n"
     ]
    },
    {
     "name": "stdin",
     "output_type": "stream",
     "text": [
      "Enter your guess:  45\n"
     ]
    },
    {
     "name": "stdout",
     "output_type": "stream",
     "text": [
      "Uuhh! You are almost there! Try something lower.\n"
     ]
    },
    {
     "name": "stdin",
     "output_type": "stream",
     "text": [
      "Enter your guess:  40\n"
     ]
    },
    {
     "name": "stdout",
     "output_type": "stream",
     "text": [
      "Nice try! Keep going. Try something higher.\n"
     ]
    },
    {
     "name": "stdin",
     "output_type": "stream",
     "text": [
      "Enter your guess:  42\n"
     ]
    },
    {
     "name": "stdout",
     "output_type": "stream",
     "text": [
      "You are a rockstar, you guessed it in 4 attempts, that's a WIN!\n"
     ]
    },
    {
     "name": "stdin",
     "output_type": "stream",
     "text": [
      "Do you want to give it another try? (Y/N):  n\n"
     ]
    },
    {
     "name": "stdout",
     "output_type": "stream",
     "text": [
      "Thank you for playing! Hope to see you soon!! Bye Bye!!!\n"
     ]
    }
   ],
   "source": [
    "import random\n",
    "\n",
    "class GuessingGame:\n",
    "    def __init__(self, min_range=1, max_range=77, max_attempts=7):\n",
    "        #Initialize the game with number, guess attempts, and range.\n",
    "        self.min_range = min_range\n",
    "        self.max_range = max_range\n",
    "        self.max_attempts = max_attempts\n",
    "        self.number = random.randint(self.min_range, self.max_range)\n",
    "        self.guess_attempts = 0\n",
    "        self.out_of_guesses = False\n",
    "\n",
    "    def get_user_guess(self):\n",
    "        #Prompt the user for a guess and validate that it is a number within range.\n",
    "        guess_input = input(\"Enter your guess: \")\n",
    "        if guess_input.isnumeric():\n",
    "            guess = int(guess_input)\n",
    "            if self.min_range <= guess <= self.max_range:\n",
    "                return guess\n",
    "        print(f\"Please enter a valid integer between {self.min_range} and {self.max_range}.\")\n",
    "        return None\n",
    "\n",
    "    def check_guess(self, guess):\n",
    "        #Check the user's guess against the number.\n",
    "        self.guess_attempts += 1\n",
    "        if guess < self.number:\n",
    "            print(\"Nice try! Keep going. Try something higher.\")\n",
    "        elif guess > self.number:\n",
    "            print(\"Uuhh! You are almost there! Try something lower.\")\n",
    "        else:\n",
    "            print(f\"You are a rockstar, you guessed it in {self.guess_attempts} attempts, that's a WIN!\")\n",
    "            self.out_of_guesses = True\n",
    "\n",
    "    def play_game(self):\n",
    "        #Main game loop, where the player makes guesses until the game ends.\n",
    "        print(\"Welcome to the Online Gaming Platform!\")\n",
    "        print(f\"You have to guess a number between {self.min_range} and {self.max_range}.\")\n",
    "        print(\"Try to guess the number. I'll hold your hands and walk you through it!\")\n",
    "\n",
    "        while self.guess_attempts < self.max_attempts and not self.out_of_guesses:\n",
    "            guess = self.get_user_guess()\n",
    "            if guess is not None:\n",
    "                self.check_guess(guess)\n",
    "\n",
    "        if not self.out_of_guesses:\n",
    "            print(f\"Sorry this happened, we know you put in efforts but you've used all your attempts. The number was {self.number}.\")\n",
    "\n",
    "    def reset_game(self):\n",
    "        #Reset the game to initial state for replay.\n",
    "        self.number = random.randint(self.min_range, self.max_range)\n",
    "        self.guess_attempts = 0\n",
    "        self.out_of_guesses = False\n",
    "\n",
    "\n",
    "class GameSession:\n",
    "    #Manage game sessions, allowing the user to play multiple rounds if desired.\n",
    "    \n",
    "    def start():\n",
    "        game = GuessingGame()  # Initialize a new game instance\n",
    "        play_again = 'Y'\n",
    "\n",
    "        while play_again == 'Y':\n",
    "            game.play_game()\n",
    "            play_again = input(\"Do you want to give it another try? (Y/N): \").strip().upper()\n",
    "            if play_again == 'Y':\n",
    "                game.reset_game()\n",
    "\n",
    "        print(\"Thank you for playing! Hope to see you soon!! Bye Bye!!!\")\n",
    "\n",
    "\n",
    "# Start the game session\n",
    "GameSession.start()\n"
   ]
  },
  {
   "cell_type": "code",
   "execution_count": null,
   "id": "d528f5f0-f81f-484e-a8f6-3dd5f9a52cf6",
   "metadata": {},
   "outputs": [],
   "source": []
  }
 ],
 "metadata": {
  "kernelspec": {
   "display_name": "Python 3 (ipykernel)",
   "language": "python",
   "name": "python3"
  },
  "language_info": {
   "codemirror_mode": {
    "name": "ipython",
    "version": 3
   },
   "file_extension": ".py",
   "mimetype": "text/x-python",
   "name": "python",
   "nbconvert_exporter": "python",
   "pygments_lexer": "ipython3",
   "version": "3.12.4"
  }
 },
 "nbformat": 4,
 "nbformat_minor": 5
}
